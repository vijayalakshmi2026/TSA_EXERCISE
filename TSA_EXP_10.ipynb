{
  "nbformat": 4,
  "nbformat_minor": 0,
  "metadata": {
    "colab": {
      "provenance": []
    },
    "kernelspec": {
      "name": "python3",
      "display_name": "Python 3"
    },
    "language_info": {
      "name": "python"
    }
  },
  "cells": [
    {
      "cell_type": "code",
      "execution_count": 21,
      "metadata": {
        "colab": {
          "base_uri": "https://localhost:8080/"
        },
        "id": "jxSMCq58A5ui",
        "outputId": "f7c28000-240e-4928-d4ce-cfb032a65d3d"
      },
      "outputs": [
        {
          "output_type": "stream",
          "name": "stdout",
          "text": [
            "Total rows: 20\n",
            "✅ Train shape: (15, 2)\n",
            "✅ Test shape: (5, 2)\n",
            "Using maxlags = 4\n",
            "\n",
            "Selected Lag Order:\n",
            "  VAR Order Selection (* highlights the minimums) \n",
            "=================================================\n",
            "      AIC         BIC         FPE         HQIC   \n",
            "-------------------------------------------------\n",
            "0      -6.369      -6.296    0.001716      -6.414\n",
            "1      -6.209      -5.992    0.002069      -6.346\n",
            "2      -6.084      -5.723    0.002629      -6.313\n",
            "3      -7.680      -7.173   0.0007340      -7.999\n",
            "4     -8.550*     -7.899*  0.0007339*     -8.960*\n",
            "-------------------------------------------------\n",
            "\n",
            "Forecasted Values:\n",
            "                Data1     Data2\n",
            "DateTime                      \n",
            "2005-01-16  0.264943  0.326774\n",
            "2005-01-17  0.280224  0.357588\n",
            "2005-01-18  0.318066  0.636870\n",
            "2005-01-19  0.322111  0.377805\n",
            "2005-01-20  0.389478  0.428071\n",
            "RMSE for Data1: 0.4831\n",
            "RMSE for Data2: 0.3524\n"
          ]
        },
        {
          "output_type": "stream",
          "name": "stderr",
          "text": [
            "/usr/local/lib/python3.11/dist-packages/statsmodels/tsa/base/tsa_model.py:473: ValueWarning: No frequency information was provided, so inferred frequency D will be used.\n",
            "  self._init_dates(dates, freq)\n"
          ]
        }
      ],
      "source": [
        "import pandas as pd\n",
        "import numpy as np\n",
        "import matplotlib.pyplot as plt\n",
        "from statsmodels.tsa.api import VAR\n",
        "from statsmodels.tools.eval_measures import rmse\n",
        "\n",
        "# ---- Load and clean your data here ----\n",
        "# Sample dummy data for demonstration:\n",
        "# Replace this with your own loading and preprocessing logic\n",
        "df = pd.DataFrame({\n",
        "    \"DateTime\": pd.date_range(start='1/1/2005', periods=20, freq='D'),\n",
        "    \"Data1\": np.random.rand(20),\n",
        "    \"Data2\": np.random.rand(20)\n",
        "})\n",
        "\n",
        "# Set DateTime index\n",
        "df.set_index(\"DateTime\", inplace=True)\n",
        "\n",
        "# Use only numeric columns\n",
        "df_numeric = df.select_dtypes(include=[np.number])\n",
        "\n",
        "# Drop any rows with NaNs (or use fillna() if appropriate)\n",
        "df_numeric.dropna(inplace=True)\n",
        "\n",
        "# ---- Splitting ----\n",
        "total_rows = len(df_numeric)\n",
        "print(\"Total rows:\", total_rows)\n",
        "\n",
        "if total_rows <= 2:\n",
        "    print(\"❌ Not enough data to proceed with VAR model. Please add more rows.\")\n",
        "else:\n",
        "    n_obs = min(5, total_rows - 1)  # Leave at least one row for training\n",
        "    train, test = df_numeric[:-n_obs], df_numeric[-n_obs:]\n",
        "\n",
        "    print(\"✅ Train shape:\", train.shape)\n",
        "    print(\"✅ Test shape:\", test.shape)\n",
        "\n",
        "    # Determine safe maxlags based on training data size\n",
        "    maxlags = min(15, max(1, int(len(train) * 0.3)))  # 30% heuristic\n",
        "    print(f\"Using maxlags = {maxlags}\")\n",
        "\n",
        "    try:\n",
        "        # Fit VAR model\n",
        "        model = VAR(train)\n",
        "\n",
        "        # Select optimal lag order\n",
        "        lag_order_result = model.select_order(maxlags=maxlags)\n",
        "        print(\"\\nSelected Lag Order:\\n\", lag_order_result.summary())\n",
        "\n",
        "        best_lag = lag_order_result.aic\n",
        "        model_fitted = model.fit(best_lag)\n",
        "\n",
        "        # Forecasting\n",
        "        forecast_input = train.values[-best_lag:]\n",
        "        forecast = model_fitted.forecast(y=forecast_input, steps=n_obs)\n",
        "        forecast_df = pd.DataFrame(forecast, index=test.index, columns=test.columns)\n",
        "\n",
        "        print(\"\\nForecasted Values:\\n\", forecast_df)\n",
        "\n",
        "        # Calculate RMSE\n",
        "        for col in test.columns:\n",
        "            error = rmse(test[col], forecast_df[col])\n",
        "            print(f\"RMSE for {col}: {error:.4f}\")\n",
        "\n",
        "    except Exception as e:\n",
        "        print(f\"\\n❌ Error: {e}\")\n",
        "        print(\"Check if your training data has enough rows and no NaN/infinite values.\")\n"
      ]
    }
  ]
}